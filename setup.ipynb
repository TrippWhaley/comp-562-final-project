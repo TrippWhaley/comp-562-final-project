{
 "cells": [
  {
   "cell_type": "markdown",
   "metadata": {},
   "source": [
    "# Unzip defungi.zip"
   ]
  },
  {
   "cell_type": "code",
   "execution_count": 1,
   "metadata": {},
   "outputs": [],
   "source": [
    "%%capture\n",
    "import os\n",
    "if not os.path.isdir('data'): \n",
    "    !mkdir data\n",
    "    !tar -xvzf defungi.zip -C data"
   ]
  },
  {
   "cell_type": "markdown",
   "metadata": {},
   "source": [
    "# Necessary Imports"
   ]
  },
  {
   "cell_type": "code",
   "execution_count": 2,
   "metadata": {},
   "outputs": [],
   "source": [
    "import numpy as np\n",
    "import polars as pl\n",
    "import cv2\n",
    "import os"
   ]
  },
  {
   "cell_type": "markdown",
   "metadata": {},
   "source": [
    "# Featurization of data\n",
    "\n",
    "### takes like 6 minutes to run"
   ]
  },
  {
   "cell_type": "code",
   "execution_count": 3,
   "metadata": {},
   "outputs": [],
   "source": [
    "def load_images_from_folder(folder):\n",
    "    images = []\n",
    "    for root, _, files in os.walk(folder):\n",
    "        if not str(root).startswith(\"data/H\"):\n",
    "            continue\n",
    "        for file in files:\n",
    "            fp = os.path.join(root, file)\n",
    "            img = cv2.imread(fp)\n",
    "            # Convert BGR to RGB\n",
    "            img = cv2.cvtColor(img, cv2.COLOR_BGR2RGB)\n",
    "            if img is not None:\n",
    "                images.append({'filename': file, 'folder': file.split('_')[0], 'image': list(np.ravel(img))})\n",
    "    return images\n",
    "\n",
    "images = load_images_from_folder('data/')\n",
    "\n",
    "assert(len(images) == 9114)"
   ]
  },
  {
   "cell_type": "code",
   "execution_count": 4,
   "metadata": {},
   "outputs": [],
   "source": [
    "for t in ['H1', 'H2', 'H3', 'H5', 'H6']:\n",
    "    df = pl.DataFrame([i for i in images if i['folder'] == t], strict=False)\n",
    "    df.write_parquet(f'./data/{t}.parquet')"
   ]
  },
  {
   "cell_type": "code",
   "execution_count": null,
   "metadata": {},
   "outputs": [],
   "source": []
  }
 ],
 "metadata": {
  "kernelspec": {
   "display_name": "comp-562-final-project-MB0twItx-py3.12",
   "language": "python",
   "name": "python3"
  },
  "language_info": {
   "codemirror_mode": {
    "name": "ipython",
    "version": 3
   },
   "file_extension": ".py",
   "mimetype": "text/x-python",
   "name": "python",
   "nbconvert_exporter": "python",
   "pygments_lexer": "ipython3",
   "version": "3.12.5"
  }
 },
 "nbformat": 4,
 "nbformat_minor": 2
}
