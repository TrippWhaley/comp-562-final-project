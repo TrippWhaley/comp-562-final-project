{
 "cells": [
  {
   "cell_type": "markdown",
   "metadata": {},
   "source": [
    "# Unzip defungi.zip"
   ]
  },
  {
   "cell_type": "code",
   "execution_count": 1,
   "metadata": {},
   "outputs": [],
   "source": [
    "%%capture\n",
    "import os\n",
    "if not os.path.isdir('data'): \n",
    "    !mkdir data\n",
    "    !tar -xvzf defungi.zip -C data"
   ]
  },
  {
   "cell_type": "markdown",
   "metadata": {},
   "source": [
    "# Necessary Imports"
   ]
  },
  {
   "cell_type": "code",
   "execution_count": 2,
   "metadata": {},
   "outputs": [],
   "source": [
    "import numpy as np\n",
    "import polars as pl\n",
    "import cv2\n",
    "import os\n",
    "import torch\n",
    "from PIL import Image\n",
    "from torchvision import transforms\n",
    "from torch.utils.data import Dataset, random_split, DataLoader"
   ]
  },
  {
   "cell_type": "markdown",
   "metadata": {},
   "source": [
    "# Constants"
   ]
  },
  {
   "cell_type": "code",
   "execution_count": 3,
   "metadata": {},
   "outputs": [],
   "source": [
    "CLASSES = {\n",
    "    'H1': 0,\n",
    "    'H2': 1,\n",
    "    'H3': 2,\n",
    "    'H5': 3,\n",
    "    'H6': 4\n",
    "}\n",
    "\n",
    "SEED = torch.Generator().manual_seed(42)\n"
   ]
  },
  {
   "cell_type": "markdown",
   "metadata": {},
   "source": [
    "# Define Dataset class"
   ]
  },
  {
   "cell_type": "code",
   "execution_count": 4,
   "metadata": {},
   "outputs": [],
   "source": [
    "class FungiDataset(Dataset):\n",
    "    \"\"\"Face Landmarks dataset.\"\"\"\n",
    "\n",
    "    def __init__(self, files, labels):\n",
    "        \"\"\"\n",
    "        Arguments:\n",
    "            file (string): Absolute path to the jpeg file.\n",
    "            transform (callable, optional): Optional transform to be applied\n",
    "                on a sample.\n",
    "        \"\"\"\n",
    "        self.images = []\n",
    "        self.files = files\n",
    "        self.labels = labels\n",
    "        self.transform = transforms.Compose([transforms.PILToTensor()])\n",
    "        self._preprocess()\n",
    "\n",
    "    def _preprocess(self):\n",
    "        for file in self.files:\n",
    "            image = Image.open(file)\n",
    "            tensor = self.transform(image)\n",
    "            self.images.append(tensor)\n",
    "\n",
    "    def __len__(self):\n",
    "        return len(self.images)\n",
    "\n",
    "    def __getitem__(self, idx):\n",
    "        image = self.images[idx]\n",
    "        label = torch.tensor(self.labels[idx])\n",
    "        file = torch.tensor(self.files[idx])\n",
    "        sample = {'file': file, 'image': self.transform(image), 'label': label}\n",
    "        return sample"
   ]
  },
  {
   "cell_type": "markdown",
   "metadata": {},
   "source": [
    "# Get all valid images"
   ]
  },
  {
   "cell_type": "code",
   "execution_count": 5,
   "metadata": {},
   "outputs": [],
   "source": [
    "def load_images_from_folder(folder):\n",
    "    images = []\n",
    "    for root, _, files in os.walk(folder):\n",
    "        if not str(root).startswith(\"data/H\"):\n",
    "            continue\n",
    "        for file in files:\n",
    "            c = file.split('_')[0]\n",
    "            images.append((root+'/'+file, CLASSES[c]))\n",
    "    return images\n",
    "\n",
    "images = load_images_from_folder('data/')\n",
    "\n",
    "assert(len(images) == 9114)\n",
    "\n",
    "files, labels = zip(*images)\n"
   ]
  },
  {
   "cell_type": "markdown",
   "metadata": {},
   "source": [
    "# Instantiate Torch Dataset"
   ]
  },
  {
   "cell_type": "code",
   "execution_count": 12,
   "metadata": {},
   "outputs": [],
   "source": [
    "dataset = FungiDataset(files=files, labels=labels)\n",
    "\n",
    "train, test = random_split(dataset=dataset, lengths=[0.7, 0.3], generator=SEED)\n",
    "\n",
    "# train_loader = DataLoader(train, batch_size=4)\n",
    "# test_loader = DataLoader(test, batch_size=4)"
   ]
  },
  {
   "cell_type": "code",
   "execution_count": null,
   "metadata": {},
   "outputs": [],
   "source": []
  }
 ],
 "metadata": {
  "kernelspec": {
   "display_name": "comp-562-final-project-MB0twItx-py3.12",
   "language": "python",
   "name": "python3"
  },
  "language_info": {
   "codemirror_mode": {
    "name": "ipython",
    "version": 3
   },
   "file_extension": ".py",
   "mimetype": "text/x-python",
   "name": "python",
   "nbconvert_exporter": "python",
   "pygments_lexer": "ipython3",
   "version": "3.12.5"
  }
 },
 "nbformat": 4,
 "nbformat_minor": 2
}
