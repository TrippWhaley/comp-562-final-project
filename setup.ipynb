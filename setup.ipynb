{
 "cells": [
  {
   "cell_type": "markdown",
   "metadata": {},
   "source": [
    "# Unzip defungi.zip"
   ]
  },
  {
   "cell_type": "code",
   "execution_count": 1,
   "metadata": {},
   "outputs": [],
   "source": [
    "%%capture\n",
    "import os\n",
    "if not os.path.isdir('data'): \n",
    "    !mkdir data\n",
    "    !tar -xvzf defungi.zip -C data"
   ]
  },
  {
   "cell_type": "markdown",
   "metadata": {},
   "source": [
    "# Necessary Imports"
   ]
  },
  {
   "cell_type": "code",
   "execution_count": 2,
   "metadata": {},
   "outputs": [],
   "source": [
    "import numpy as np\n",
    "import polars as pl\n",
    "import cv2\n",
    "import os\n",
    "import torch\n",
    "from PIL import Image\n",
    "from torchvision import transforms\n",
    "from torch.utils.data import Dataset, random_split, DataLoader"
   ]
  },
  {
   "cell_type": "markdown",
   "metadata": {},
   "source": [
    "# Constants"
   ]
  },
  {
   "cell_type": "code",
   "execution_count": 3,
   "metadata": {},
   "outputs": [],
   "source": [
    "CLASSES = {\n",
    "    'H1': 0,\n",
    "    'H2': 1,\n",
    "    'H3': 2,\n",
    "    'H5': 3,\n",
    "    'H6': 4\n",
    "}\n",
    "\n",
    "SEED = torch.Generator().manual_seed(42)\n"
   ]
  },
  {
   "cell_type": "markdown",
   "metadata": {},
   "source": [
    "# Define Dataset class"
   ]
  },
  {
   "cell_type": "code",
   "execution_count": 4,
   "metadata": {},
   "outputs": [],
   "source": [
    "class FungiDataset(Dataset):\n",
    "    \"\"\"Face Landmarks dataset.\"\"\"\n",
    "\n",
    "    def __init__(self, files, labels):\n",
    "        \"\"\"\n",
    "        Arguments:\n",
    "            file (string): Absolute path to the jpeg file.\n",
    "            transform (callable, optional): Optional transform to be applied\n",
    "                on a sample.\n",
    "        \"\"\"\n",
    "        self.images = []\n",
    "        self.files = files\n",
    "        self.labels = labels\n",
    "        self.transform = transforms.Compose([transforms.PILToTensor()])\n",
    "        self._preprocess()\n",
    "\n",
    "    def _preprocess(self):\n",
    "        for file in self.files:\n",
    "            image = Image.open(file)\n",
    "            tensor = self.transform(image)\n",
    "            self.images.append(tensor)\n",
    "\n",
    "    def __len__(self):\n",
    "        return len(self.images)\n",
    "\n",
    "    def __getitem__(self, idx):\n",
    "        image = self.images[idx]\n",
    "        label = torch.tensor(self.labels[idx])\n",
    "        file = torch.tensor(self.files[idx])\n",
    "        sample = {'file': file, 'image': self.transform(image), 'label': label}\n",
    "        return sample"
   ]
  },
  {
   "cell_type": "markdown",
   "metadata": {},
   "source": [
    "# Get all valid images"
   ]
  },
  {
   "cell_type": "code",
   "execution_count": 5,
   "metadata": {},
   "outputs": [],
   "source": [
    "def load_images_from_folder(folder):\n",
    "    images = []\n",
    "    for root, _, files in os.walk(folder):\n",
    "        if not str(root).startswith(\"data/H\"):\n",
    "            continue\n",
    "        for file in files:\n",
    "            c = file.split('_')[0]\n",
    "            images.append((root+'/'+file, CLASSES[c]))\n",
    "    return images\n",
    "\n",
    "images = load_images_from_folder('data/')\n",
    "\n",
    "assert(len(images) == 9114)\n",
    "\n",
    "files, labels = zip(*images)\n"
   ]
  },
  {
   "cell_type": "markdown",
   "metadata": {},
   "source": [
    "# Instantiate Torch Dataset"
   ]
  },
  {
   "cell_type": "code",
   "execution_count": 17,
   "metadata": {},
   "outputs": [],
   "source": [
    "dataset = FungiDataset(files=files, labels=labels)\n",
    "\n",
    "train, test = random_split(dataset=dataset, lengths=[0.7, 0.3], generator=SEED)\n",
    "\n",
    "# train_loader = DataLoader(train, batch_size=4)\n",
    "# test_loader = DataLoader(test, batch_size=4)\n",
    "\n",
    "assert(len(train) == 6380)\n",
    "assert(len(test) == 2734)"
   ]
  },
  {
   "cell_type": "markdown",
   "metadata": {},
   "source": [
    "# Save to machine for use in other notebooks"
   ]
  },
  {
   "cell_type": "code",
   "execution_count": 13,
   "metadata": {},
   "outputs": [],
   "source": [
    "torch.save(train, './train.pt')\n",
    "torch.save(test, './test.pt')"
   ]
  },
  {
   "cell_type": "markdown",
   "metadata": {},
   "source": [
    "# Sanity check, reload those files"
   ]
  },
  {
   "cell_type": "code",
   "execution_count": 25,
   "metadata": {},
   "outputs": [
    {
     "name": "stderr",
     "output_type": "stream",
     "text": [
      "/var/folders/4w/fhdcccr162j9j3w94494tdnh0000gn/T/ipykernel_3414/126221015.py:1: FutureWarning: You are using `torch.load` with `weights_only=False` (the current default value), which uses the default pickle module implicitly. It is possible to construct malicious pickle data which will execute arbitrary code during unpickling (See https://github.com/pytorch/pytorch/blob/main/SECURITY.md#untrusted-models for more details). In a future release, the default value for `weights_only` will be flipped to `True`. This limits the functions that could be executed during unpickling. Arbitrary objects will no longer be allowed to be loaded via this mode unless they are explicitly allowlisted by the user via `torch.serialization.add_safe_globals`. We recommend you start setting `weights_only=True` for any use case where you don't have full control of the loaded file. Please open an issue on GitHub for any issues related to this experimental feature.\n",
      "  train_reload = torch.load('./train.pt')\n",
      "/var/folders/4w/fhdcccr162j9j3w94494tdnh0000gn/T/ipykernel_3414/126221015.py:2: FutureWarning: You are using `torch.load` with `weights_only=False` (the current default value), which uses the default pickle module implicitly. It is possible to construct malicious pickle data which will execute arbitrary code during unpickling (See https://github.com/pytorch/pytorch/blob/main/SECURITY.md#untrusted-models for more details). In a future release, the default value for `weights_only` will be flipped to `True`. This limits the functions that could be executed during unpickling. Arbitrary objects will no longer be allowed to be loaded via this mode unless they are explicitly allowlisted by the user via `torch.serialization.add_safe_globals`. We recommend you start setting `weights_only=True` for any use case where you don't have full control of the loaded file. Please open an issue on GitHub for any issues related to this experimental feature.\n",
      "  test_reload = torch.load('./test.pt')\n"
     ]
    }
   ],
   "source": [
    "train_reload = torch.load('./train.pt')\n",
    "test_reload = torch.load('./test.pt')\n",
    "\n",
    "assert(len(train_reload) == 6380)\n",
    "assert(len(test_reload) == 2734)"
   ]
  }
 ],
 "metadata": {
  "kernelspec": {
   "display_name": "comp-562-final-project-MB0twItx-py3.12",
   "language": "python",
   "name": "python3"
  },
  "language_info": {
   "codemirror_mode": {
    "name": "ipython",
    "version": 3
   },
   "file_extension": ".py",
   "mimetype": "text/x-python",
   "name": "python",
   "nbconvert_exporter": "python",
   "pygments_lexer": "ipython3",
   "version": "3.12.5"
  }
 },
 "nbformat": 4,
 "nbformat_minor": 2
}
